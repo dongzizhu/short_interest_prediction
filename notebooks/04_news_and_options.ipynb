{
 "cells": [
  {
   "cell_type": "code",
   "execution_count": 9,
   "id": "7efd170b",
   "metadata": {},
   "outputs": [],
   "source": [
    "api_key = 'd2m9nr9r01qq6fopl8e0d2m9nr9r01qq6fopl8eg'"
   ]
  },
  {
   "cell_type": "code",
   "execution_count": 10,
   "id": "94e66d0b",
   "metadata": {},
   "outputs": [
    {
     "ename": "FinnhubAPIException",
     "evalue": "FinnhubAPIException(status_code: 403): You don't have access to this resource.",
     "output_type": "error",
     "traceback": [
      "\u001b[1;31m---------------------------------------------------------------------------\u001b[0m",
      "\u001b[1;31mFinnhubAPIException\u001b[0m                       Traceback (most recent call last)",
      "Cell \u001b[1;32mIn[10], line 4\u001b[0m\n\u001b[0;32m      1\u001b[0m \u001b[38;5;28;01mimport\u001b[39;00m \u001b[38;5;21;01mfinnhub\u001b[39;00m\n\u001b[0;32m      2\u001b[0m finnhub_client \u001b[38;5;241m=\u001b[39m finnhub\u001b[38;5;241m.\u001b[39mClient(api_key\u001b[38;5;241m=\u001b[39mapi_key)\n\u001b[1;32m----> 4\u001b[0m \u001b[38;5;28mprint\u001b[39m(\u001b[43mfinnhub_client\u001b[49m\u001b[38;5;241;43m.\u001b[39;49m\u001b[43mnews_sentiment\u001b[49m\u001b[43m(\u001b[49m\u001b[38;5;124;43m'\u001b[39;49m\u001b[38;5;124;43mAAPL\u001b[39;49m\u001b[38;5;124;43m'\u001b[39;49m\u001b[43m)\u001b[49m)\n",
      "File \u001b[1;32md:\\software\\anaconda3\\envs\\python39\\lib\\site-packages\\finnhub\\client.py:324\u001b[0m, in \u001b[0;36mClient.news_sentiment\u001b[1;34m(self, symbol)\u001b[0m\n\u001b[0;32m    323\u001b[0m \u001b[38;5;28;01mdef\u001b[39;00m \u001b[38;5;21mnews_sentiment\u001b[39m(\u001b[38;5;28mself\u001b[39m, symbol):\n\u001b[1;32m--> 324\u001b[0m     \u001b[38;5;28;01mreturn\u001b[39;00m \u001b[38;5;28;43mself\u001b[39;49m\u001b[38;5;241;43m.\u001b[39;49m\u001b[43m_get\u001b[49m\u001b[43m(\u001b[49m\u001b[38;5;124;43m\"\u001b[39;49m\u001b[38;5;124;43m/news-sentiment\u001b[39;49m\u001b[38;5;124;43m\"\u001b[39;49m\u001b[43m,\u001b[49m\u001b[43m \u001b[49m\u001b[43mparams\u001b[49m\u001b[38;5;241;43m=\u001b[39;49m\u001b[43m{\u001b[49m\n\u001b[0;32m    325\u001b[0m \u001b[43m        \u001b[49m\u001b[38;5;124;43m\"\u001b[39;49m\u001b[38;5;124;43msymbol\u001b[39;49m\u001b[38;5;124;43m\"\u001b[39;49m\u001b[43m:\u001b[49m\u001b[43m \u001b[49m\u001b[43msymbol\u001b[49m\n\u001b[0;32m    326\u001b[0m \u001b[43m    \u001b[49m\u001b[43m}\u001b[49m\u001b[43m)\u001b[49m\n",
      "File \u001b[1;32md:\\software\\anaconda3\\envs\\python39\\lib\\site-packages\\finnhub\\client.py:71\u001b[0m, in \u001b[0;36mClient._get\u001b[1;34m(self, path, **kwargs)\u001b[0m\n\u001b[0;32m     70\u001b[0m \u001b[38;5;28;01mdef\u001b[39;00m \u001b[38;5;21m_get\u001b[39m(\u001b[38;5;28mself\u001b[39m, path, \u001b[38;5;241m*\u001b[39m\u001b[38;5;241m*\u001b[39mkwargs):\n\u001b[1;32m---> 71\u001b[0m     \u001b[38;5;28;01mreturn\u001b[39;00m \u001b[38;5;28mself\u001b[39m\u001b[38;5;241m.\u001b[39m_request(\u001b[38;5;124m\"\u001b[39m\u001b[38;5;124mget\u001b[39m\u001b[38;5;124m\"\u001b[39m, path, \u001b[38;5;241m*\u001b[39m\u001b[38;5;241m*\u001b[39mkwargs)\n",
      "File \u001b[1;32md:\\software\\anaconda3\\envs\\python39\\lib\\site-packages\\finnhub\\client.py:41\u001b[0m, in \u001b[0;36mClient._request\u001b[1;34m(self, method, path, **kwargs)\u001b[0m\n\u001b[0;32m     38\u001b[0m kwargs[\u001b[38;5;124m\"\u001b[39m\u001b[38;5;124mparams\u001b[39m\u001b[38;5;124m\"\u001b[39m] \u001b[38;5;241m=\u001b[39m \u001b[38;5;28mself\u001b[39m\u001b[38;5;241m.\u001b[39m_format_params(kwargs\u001b[38;5;241m.\u001b[39mget(\u001b[38;5;124m\"\u001b[39m\u001b[38;5;124mparams\u001b[39m\u001b[38;5;124m\"\u001b[39m, {}))\n\u001b[0;32m     40\u001b[0m response \u001b[38;5;241m=\u001b[39m \u001b[38;5;28mgetattr\u001b[39m(\u001b[38;5;28mself\u001b[39m\u001b[38;5;241m.\u001b[39m_session, method)(uri, \u001b[38;5;241m*\u001b[39m\u001b[38;5;241m*\u001b[39mkwargs)\n\u001b[1;32m---> 41\u001b[0m \u001b[38;5;28;01mreturn\u001b[39;00m \u001b[38;5;28;43mself\u001b[39;49m\u001b[38;5;241;43m.\u001b[39;49m\u001b[43m_handle_response\u001b[49m\u001b[43m(\u001b[49m\u001b[43mresponse\u001b[49m\u001b[43m)\u001b[49m\n",
      "File \u001b[1;32md:\\software\\anaconda3\\envs\\python39\\lib\\site-packages\\finnhub\\client.py:46\u001b[0m, in \u001b[0;36mClient._handle_response\u001b[1;34m(response)\u001b[0m\n\u001b[0;32m     43\u001b[0m \u001b[38;5;129m@staticmethod\u001b[39m\n\u001b[0;32m     44\u001b[0m \u001b[38;5;28;01mdef\u001b[39;00m \u001b[38;5;21m_handle_response\u001b[39m(response):\n\u001b[0;32m     45\u001b[0m     \u001b[38;5;28;01mif\u001b[39;00m \u001b[38;5;129;01mnot\u001b[39;00m response\u001b[38;5;241m.\u001b[39mok:\n\u001b[1;32m---> 46\u001b[0m         \u001b[38;5;28;01mraise\u001b[39;00m FinnhubAPIException(response)\n\u001b[0;32m     48\u001b[0m     \u001b[38;5;28;01mtry\u001b[39;00m:\n\u001b[0;32m     49\u001b[0m         content_type \u001b[38;5;241m=\u001b[39m response\u001b[38;5;241m.\u001b[39mheaders\u001b[38;5;241m.\u001b[39mget(\u001b[38;5;124m'\u001b[39m\u001b[38;5;124mContent-Type\u001b[39m\u001b[38;5;124m'\u001b[39m, \u001b[38;5;124m'\u001b[39m\u001b[38;5;124m'\u001b[39m)\n",
      "\u001b[1;31mFinnhubAPIException\u001b[0m: FinnhubAPIException(status_code: 403): You don't have access to this resource."
     ]
    }
   ],
   "source": [
    "import finnhub\n",
    "finnhub_client = finnhub.Client(api_key=api_key)\n",
    "\n",
    "print(finnhub_client.news_sentiment('AAPL'))"
   ]
  },
  {
   "cell_type": "code",
   "execution_count": 8,
   "id": "da11597b",
   "metadata": {},
   "outputs": [
    {
     "ename": "FinnhubAPIException",
     "evalue": "FinnhubAPIException(status_code: 403): You don't have access to this resource.",
     "output_type": "error",
     "traceback": [
      "\u001b[1;31m---------------------------------------------------------------------------\u001b[0m",
      "\u001b[1;31mFinnhubAPIException\u001b[0m                       Traceback (most recent call last)",
      "Cell \u001b[1;32mIn[8], line 1\u001b[0m\n\u001b[1;32m----> 1\u001b[0m \u001b[38;5;28mprint\u001b[39m(\u001b[43mfinnhub_client\u001b[49m\u001b[38;5;241;43m.\u001b[39;49m\u001b[43mpress_releases\u001b[49m\u001b[43m(\u001b[49m\u001b[38;5;124;43m'\u001b[39;49m\u001b[38;5;124;43mAAPL\u001b[39;49m\u001b[38;5;124;43m'\u001b[39;49m\u001b[43m)\u001b[49m)\n",
      "File \u001b[1;32md:\\software\\anaconda3\\envs\\python39\\lib\\site-packages\\finnhub\\client.py:103\u001b[0m, in \u001b[0;36mClient.press_releases\u001b[1;34m(self, symbol, _from, to)\u001b[0m\n\u001b[0;32m    102\u001b[0m \u001b[38;5;28;01mdef\u001b[39;00m \u001b[38;5;21mpress_releases\u001b[39m(\u001b[38;5;28mself\u001b[39m, symbol, _from\u001b[38;5;241m=\u001b[39m\u001b[38;5;28;01mNone\u001b[39;00m, to\u001b[38;5;241m=\u001b[39m\u001b[38;5;28;01mNone\u001b[39;00m):\n\u001b[1;32m--> 103\u001b[0m     \u001b[38;5;28;01mreturn\u001b[39;00m \u001b[38;5;28;43mself\u001b[39;49m\u001b[38;5;241;43m.\u001b[39;49m\u001b[43m_get\u001b[49m\u001b[43m(\u001b[49m\u001b[38;5;124;43m\"\u001b[39;49m\u001b[38;5;124;43m/press-releases\u001b[39;49m\u001b[38;5;124;43m\"\u001b[39;49m\u001b[43m,\u001b[49m\u001b[43m \u001b[49m\u001b[43mparams\u001b[49m\u001b[38;5;241;43m=\u001b[39;49m\u001b[43m{\u001b[49m\n\u001b[0;32m    104\u001b[0m \u001b[43m        \u001b[49m\u001b[38;5;124;43m\"\u001b[39;49m\u001b[38;5;124;43msymbol\u001b[39;49m\u001b[38;5;124;43m\"\u001b[39;49m\u001b[43m:\u001b[49m\u001b[43m \u001b[49m\u001b[43msymbol\u001b[49m\u001b[43m,\u001b[49m\n\u001b[0;32m    105\u001b[0m \u001b[43m        \u001b[49m\u001b[38;5;124;43m\"\u001b[39;49m\u001b[38;5;124;43mfrom\u001b[39;49m\u001b[38;5;124;43m\"\u001b[39;49m\u001b[43m:\u001b[49m\u001b[43m \u001b[49m\u001b[43m_from\u001b[49m\u001b[43m,\u001b[49m\n\u001b[0;32m    106\u001b[0m \u001b[43m        \u001b[49m\u001b[38;5;124;43m\"\u001b[39;49m\u001b[38;5;124;43mto\u001b[39;49m\u001b[38;5;124;43m\"\u001b[39;49m\u001b[43m:\u001b[49m\u001b[43m \u001b[49m\u001b[43mto\u001b[49m\n\u001b[0;32m    107\u001b[0m \u001b[43m    \u001b[49m\u001b[43m}\u001b[49m\u001b[43m)\u001b[49m\n",
      "File \u001b[1;32md:\\software\\anaconda3\\envs\\python39\\lib\\site-packages\\finnhub\\client.py:71\u001b[0m, in \u001b[0;36mClient._get\u001b[1;34m(self, path, **kwargs)\u001b[0m\n\u001b[0;32m     70\u001b[0m \u001b[38;5;28;01mdef\u001b[39;00m \u001b[38;5;21m_get\u001b[39m(\u001b[38;5;28mself\u001b[39m, path, \u001b[38;5;241m*\u001b[39m\u001b[38;5;241m*\u001b[39mkwargs):\n\u001b[1;32m---> 71\u001b[0m     \u001b[38;5;28;01mreturn\u001b[39;00m \u001b[38;5;28mself\u001b[39m\u001b[38;5;241m.\u001b[39m_request(\u001b[38;5;124m\"\u001b[39m\u001b[38;5;124mget\u001b[39m\u001b[38;5;124m\"\u001b[39m, path, \u001b[38;5;241m*\u001b[39m\u001b[38;5;241m*\u001b[39mkwargs)\n",
      "File \u001b[1;32md:\\software\\anaconda3\\envs\\python39\\lib\\site-packages\\finnhub\\client.py:41\u001b[0m, in \u001b[0;36mClient._request\u001b[1;34m(self, method, path, **kwargs)\u001b[0m\n\u001b[0;32m     38\u001b[0m kwargs[\u001b[38;5;124m\"\u001b[39m\u001b[38;5;124mparams\u001b[39m\u001b[38;5;124m\"\u001b[39m] \u001b[38;5;241m=\u001b[39m \u001b[38;5;28mself\u001b[39m\u001b[38;5;241m.\u001b[39m_format_params(kwargs\u001b[38;5;241m.\u001b[39mget(\u001b[38;5;124m\"\u001b[39m\u001b[38;5;124mparams\u001b[39m\u001b[38;5;124m\"\u001b[39m, {}))\n\u001b[0;32m     40\u001b[0m response \u001b[38;5;241m=\u001b[39m \u001b[38;5;28mgetattr\u001b[39m(\u001b[38;5;28mself\u001b[39m\u001b[38;5;241m.\u001b[39m_session, method)(uri, \u001b[38;5;241m*\u001b[39m\u001b[38;5;241m*\u001b[39mkwargs)\n\u001b[1;32m---> 41\u001b[0m \u001b[38;5;28;01mreturn\u001b[39;00m \u001b[38;5;28;43mself\u001b[39;49m\u001b[38;5;241;43m.\u001b[39;49m\u001b[43m_handle_response\u001b[49m\u001b[43m(\u001b[49m\u001b[43mresponse\u001b[49m\u001b[43m)\u001b[49m\n",
      "File \u001b[1;32md:\\software\\anaconda3\\envs\\python39\\lib\\site-packages\\finnhub\\client.py:46\u001b[0m, in \u001b[0;36mClient._handle_response\u001b[1;34m(response)\u001b[0m\n\u001b[0;32m     43\u001b[0m \u001b[38;5;129m@staticmethod\u001b[39m\n\u001b[0;32m     44\u001b[0m \u001b[38;5;28;01mdef\u001b[39;00m \u001b[38;5;21m_handle_response\u001b[39m(response):\n\u001b[0;32m     45\u001b[0m     \u001b[38;5;28;01mif\u001b[39;00m \u001b[38;5;129;01mnot\u001b[39;00m response\u001b[38;5;241m.\u001b[39mok:\n\u001b[1;32m---> 46\u001b[0m         \u001b[38;5;28;01mraise\u001b[39;00m FinnhubAPIException(response)\n\u001b[0;32m     48\u001b[0m     \u001b[38;5;28;01mtry\u001b[39;00m:\n\u001b[0;32m     49\u001b[0m         content_type \u001b[38;5;241m=\u001b[39m response\u001b[38;5;241m.\u001b[39mheaders\u001b[38;5;241m.\u001b[39mget(\u001b[38;5;124m'\u001b[39m\u001b[38;5;124mContent-Type\u001b[39m\u001b[38;5;124m'\u001b[39m, \u001b[38;5;124m'\u001b[39m\u001b[38;5;124m'\u001b[39m)\n",
      "\u001b[1;31mFinnhubAPIException\u001b[0m: FinnhubAPIException(status_code: 403): You don't have access to this resource."
     ]
    }
   ],
   "source": [
    "print(finnhub_client.press_releases('AAPL'))"
   ]
  },
  {
   "cell_type": "code",
   "execution_count": 3,
   "id": "165ee8e1",
   "metadata": {},
   "outputs": [],
   "source": [
    "import requests\n",
    "from datetime import date, datetime\n",
    "from typing import List, Dict, Union, Optional\n",
    "import time\n",
    "\n",
    "def get_daily_news(ticker: str, day: Union[str, date, datetime], token: Optional[str] = None,\n",
    "                   max_retries: int = 3, timeout: int = 10) -> List[Dict]:\n",
    "    \"\"\"\n",
    "    Fetch Finnhub company news for a single ticker for a specific calendar day.\n",
    "\n",
    "    Parameters\n",
    "    ----------\n",
    "    ticker : str\n",
    "        Stock symbol, e.g. 'AAPL'.\n",
    "    day : str | date | datetime\n",
    "        Target day. If str, must be 'YYYY-MM-DD'.\n",
    "    token : str | None\n",
    "        Finnhub API token. If None, uses global api_key.\n",
    "    max_retries : int\n",
    "        Retry attempts on transient HTTP errors (429, 5xx).\n",
    "    timeout : int\n",
    "        Per-request timeout in seconds.\n",
    "\n",
    "    Returns\n",
    "    -------\n",
    "    List[Dict]\n",
    "        List of news item JSON objects (empty list if none or failure).\n",
    "\n",
    "    Notes\n",
    "    -----\n",
    "    Finnhub endpoint: /company-news (no pagination). The 'from' and 'to' must be the same\n",
    "    for a single day window.\n",
    "    \"\"\"\n",
    "    if isinstance(day, (date, datetime)):\n",
    "        day_str = day.strftime('%Y-%m-%d')\n",
    "    else:\n",
    "        day_str = day\n",
    "    token = token or api_key  # uses existing variable from previous cell\n",
    "\n",
    "    url = \"https://finnhub.io/api/v1/company-news\"\n",
    "    params = {\"symbol\": ticker.upper(), \"from\": day_str, \"to\": day_str, \"token\": token}\n",
    "\n",
    "    backoff = 1\n",
    "    for attempt in range(1, max_retries + 1):\n",
    "        try:\n",
    "            r = requests.get(url, params=params, timeout=timeout)\n",
    "            if r.status_code == 200:\n",
    "                data = r.json()\n",
    "                # Ensure it's a list\n",
    "                return data if isinstance(data, list) else []\n",
    "            if r.status_code == 429:\n",
    "                # Rate limited: simple exponential backoff\n",
    "                time.sleep(backoff)\n",
    "                backoff = min(backoff * 2, 16)\n",
    "                continue\n",
    "            if 500 <= r.status_code < 600:\n",
    "                continue  # retry on server errors\n",
    "            # Non-retriable error\n",
    "            return []\n",
    "        except (requests.Timeout, requests.ConnectionError):\n",
    "            continue\n",
    "    return []"
   ]
  },
  {
   "cell_type": "code",
   "execution_count": 5,
   "id": "7daa1f58",
   "metadata": {},
   "outputs": [
    {
     "name": "stdout",
     "output_type": "stream",
     "text": [
      "0 articles\n"
     ]
    }
   ],
   "source": [
    "# Example (commented):\n",
    "news_items = get_daily_news(\"AAPL\", \"2024-08-02\")\n",
    "print(len(news_items), \"articles\")"
   ]
  }
 ],
 "metadata": {
  "kernelspec": {
   "display_name": "python39",
   "language": "python",
   "name": "python3"
  },
  "language_info": {
   "codemirror_mode": {
    "name": "ipython",
    "version": 3
   },
   "file_extension": ".py",
   "mimetype": "text/x-python",
   "name": "python",
   "nbconvert_exporter": "python",
   "pygments_lexer": "ipython3",
   "version": "3.9.21"
  }
 },
 "nbformat": 4,
 "nbformat_minor": 5
}
